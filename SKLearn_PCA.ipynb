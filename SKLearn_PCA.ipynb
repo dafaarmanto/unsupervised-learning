{
  "nbformat": 4,
  "nbformat_minor": 0,
  "metadata": {
    "colab": {
      "provenance": []
    },
    "kernelspec": {
      "name": "python3",
      "display_name": "Python 3"
    },
    "language_info": {
      "name": "python"
    }
  },
  "cells": [
    {
      "cell_type": "markdown",
      "source": [
        "# SKLearn PCA\n",
        "\n",
        "1. Bagi dataset.\n",
        "2. Latih model tanpa PCA.\n",
        "3. Latih model dengan PCA.\n",
        "4. Evaluasi hasil kedua model."
      ],
      "metadata": {
        "id": "P3rtNr2MUofT"
      }
    },
    {
      "cell_type": "code",
      "execution_count": 1,
      "metadata": {
        "id": "NfHteNqiUfB7"
      },
      "outputs": [],
      "source": [
        "from sklearn import datasets\n",
        "from sklearn.model_selection import train_test_split\n",
        "\n",
        "iris = datasets.load_iris()\n",
        "atribut = iris.data\n",
        "label = iris.target\n",
        "\n",
        "X_train, X_test, y_train, y_test = train_test_split(atribut, label,\n",
        "                                                    test_size=0.2,\n",
        "                                                    random_state=1)"
      ]
    },
    {
      "cell_type": "markdown",
      "source": [
        "### Tanpa PCA"
      ],
      "metadata": {
        "id": "AG78PgV1Vnc9"
      }
    },
    {
      "cell_type": "code",
      "source": [
        "from sklearn.tree import DecisionTreeClassifier\n",
        "\n",
        "decision_tree = DecisionTreeClassifier()\n",
        "model_pertama = decision_tree.fit(X_train, y_train)\n",
        "model_pertama.score(X_test, y_test)"
      ],
      "metadata": {
        "colab": {
          "base_uri": "https://localhost:8080/"
        },
        "id": "VEYFzHcKVOus",
        "outputId": "3c35b882-7999-4dcd-db88-538f0ceb2aed"
      },
      "execution_count": 2,
      "outputs": [
        {
          "output_type": "execute_result",
          "data": {
            "text/plain": [
              "0.9666666666666667"
            ]
          },
          "metadata": {},
          "execution_count": 2
        }
      ]
    },
    {
      "cell_type": "markdown",
      "source": [
        "### Menggunakan PCA"
      ],
      "metadata": {
        "id": "00w9MBguVqM6"
      }
    },
    {
      "cell_type": "code",
      "source": [
        "from sklearn.decomposition import PCA\n",
        "\n",
        "# Membuat objek PCA dengan 4 komponen\n",
        "pca = PCA(n_components=4)\n",
        "\n",
        "# Mengaplikasikan PCA pada dataset\n",
        "pca_attributes = pca.fit_transform(X_train)\n",
        "\n",
        "# Melihat variance dari setiap atribut\n",
        "pca.explained_variance_ratio_"
      ],
      "metadata": {
        "colab": {
          "base_uri": "https://localhost:8080/"
        },
        "id": "JxG_PAP5Vkoc",
        "outputId": "d7f773fc-96ab-46d1-dbd6-538ec17393f4"
      },
      "execution_count": 3,
      "outputs": [
        {
          "output_type": "execute_result",
          "data": {
            "text/plain": [
              "array([0.92848323, 0.04764372, 0.01931005, 0.004563  ])"
            ]
          },
          "metadata": {},
          "execution_count": 3
        }
      ]
    },
    {
      "cell_type": "code",
      "source": [
        "# PCA dengan 2 komponen\n",
        "pca = PCA(n_components=2)\n",
        "X_train_pca = pca.fit_transform(X_train)\n",
        "X_test_pca = pca.fit_transform(X_test)"
      ],
      "metadata": {
        "id": "cgodN7lyWMGn"
      },
      "execution_count": 4,
      "outputs": []
    },
    {
      "cell_type": "code",
      "source": [
        "# Uji akurasi classifier\n",
        "model2 = decision_tree.fit(X_train_pca, y_train)\n",
        "model2.score(X_test_pca, y_test)"
      ],
      "metadata": {
        "colab": {
          "base_uri": "https://localhost:8080/"
        },
        "id": "_ii-u0S6WZep",
        "outputId": "3d1b50af-17b4-481b-96ab-c8ab22c6ca00"
      },
      "execution_count": 5,
      "outputs": [
        {
          "output_type": "execute_result",
          "data": {
            "text/plain": [
              "0.9333333333333333"
            ]
          },
          "metadata": {},
          "execution_count": 5
        }
      ]
    }
  ]
}